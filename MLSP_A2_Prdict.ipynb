{
  "nbformat": 4,
  "nbformat_minor": 0,
  "metadata": {
    "colab": {
      "provenance": []
    },
    "kernelspec": {
      "name": "python3",
      "display_name": "Python 3"
    },
    "language_info": {
      "name": "python"
    }
  },
  "cells": [
    {
      "cell_type": "code",
      "execution_count": 1,
      "metadata": {
        "id": "IeRLzybhuOoZ"
      },
      "outputs": [],
      "source": [
        "import tensorflow as tf\n",
        "import numpy as np\n",
        "import glob\n",
        "from tensorflow.keras.models import Sequential\n",
        "from tensorflow.keras.layers import Flatten,Dense,Conv2D,MaxPool2D,AvgPool2D\n",
        "from tensorflow import keras\n",
        "from sklearn.metrics import precision_recall_fscore_support\n",
        "import pandas as pd"
      ]
    },
    {
      "cell_type": "code",
      "source": [
        "model=tf.keras.models.load_model(\"/content/drive/MyDrive/MLSP_A2/FrameWise_Bi_LSTM_Modified_2_1999\")"
      ],
      "metadata": {
        "id": "KsdzbtscucZ5",
        "colab": {
          "base_uri": "https://localhost:8080/"
        },
        "outputId": "e92aaeae-6801-4bb8-97e6-a103b40f8f1a"
      },
      "execution_count": null,
      "outputs": [
        {
          "output_type": "stream",
          "name": "stderr",
          "text": [
            "ERROR:tensorflow:==================================\n",
            "Object was never used (type <class 'tensorflow.python.ops.tensor_array_ops.TensorArray'>):\n",
            "<tensorflow.python.ops.tensor_array_ops.TensorArray object at 0x7f3afcebaa50>\n",
            "If you want to mark it as used call its \"mark_used()\" method.\n",
            "It was originally created here:\n",
            "  File \"/usr/local/lib/python3.7/dist-packages/keras/backend.py\", line 4771, in <genexpr>\n",
            "    for ta, out in zip(output_ta_t, flat_output))  File \"/usr/local/lib/python3.7/dist-packages/tensorflow/python/util/tf_should_use.py\", line 245, in wrapped\n",
            "    error_in_function=error_in_function)\n",
            "==================================\n"
          ]
        }
      ]
    },
    {
      "cell_type": "code",
      "source": [
        "def normalise(arr):\n",
        "  mu=np.mean(arr,axis=0)\n",
        "  std_dav=np.std(arr,axis=0)\n",
        "  normalised_arr=(arr-mu)/std_dav\n",
        "  return normalised_arr"
      ],
      "metadata": {
        "id": "7xVfbQDpwhEu"
      },
      "execution_count": null,
      "outputs": []
    },
    {
      "cell_type": "code",
      "source": [
        "def multihot_to_indices(arr):\n",
        "  non_zero_indices=[]\n",
        "  for index in range (len(arr)):\n",
        "    if arr[index]!=0:\n",
        "      non_zero_indices.append(index)\n",
        "  return non_zero_indices"
      ],
      "metadata": {
        "id": "l7anmXifxDLR"
      },
      "execution_count": null,
      "outputs": []
    },
    {
      "cell_type": "code",
      "source": [
        "X_test=sorted(glob.glob(\"/content/drive/MyDrive/MLSP_A2/test/X/*.npy\"))"
      ],
      "metadata": {
        "id": "PZwO3D0ez6-b"
      },
      "execution_count": null,
      "outputs": []
    },
    {
      "cell_type": "code",
      "source": [
        "events_types = {\n",
        "    0: 'Alarm_bell_ringing', \n",
        "    1: 'Blender', \n",
        "    2: 'Cat', \n",
        "    3: 'Dishes', \n",
        "    4: 'Dog',\n",
        "    5: 'Electric_shaver_toothbrush', \n",
        "    6: 'Frying', \n",
        "    7: 'Running_water',\n",
        "    8: 'Silence', \n",
        "    9: 'Speech', \n",
        "    10: 'Vacuum_cleaner'\n",
        "}"
      ],
      "metadata": {
        "id": "BY8Pcvlau6EQ"
      },
      "execution_count": null,
      "outputs": []
    },
    {
      "cell_type": "code",
      "source": [
        "def prediction_to_csv(X_path):\n",
        "  \n",
        "  fileid=[]\n",
        "  classes=[]  \n",
        "  for file_no in range(len(X_path)):\n",
        "   fileid.append(X_path[file_no][38:])\n",
        "   events_in_this_file=[]\n",
        "   #print(X_path[file_no])\n",
        "   a=np.squeeze(np.load(str(X_path[file_no]))).T\n",
        "   a=a.reshape(20,50,64)\n",
        "   a=normalise(a)\n",
        "   y_pred=model(a)\n",
        "   y_pred=y_pred.numpy()\n",
        "   y_pred=y_pred.reshape(1000,11)\n",
        "   y_pred=np.round(y_pred)\n",
        "   y_pred=y_pred.T\n",
        "   y_pred=np.sum(y_pred,axis=-1)\n",
        "   #print(y_pred.shape)\n",
        "   #print(y_pred)\n",
        "   non_zero_indices_y_pred=multihot_to_indices(y_pred)\n",
        "   #print(non_zero_indices_y_pred)\n",
        "   for indices in non_zero_indices_y_pred:\n",
        "     events_in_this_file.append(events_types[indices])\n",
        "   l=\", \".join([str(item) for item in events_in_this_file])  \n",
        "   classes.append(l)\n",
        "  return fileid,classes \n"
      ],
      "metadata": {
        "id": "EaS76EblyPZE"
      },
      "execution_count": null,
      "outputs": []
    },
    {
      "cell_type": "code",
      "source": [
        "fileid,classes=prediction_to_csv(X_test)"
      ],
      "metadata": {
        "id": "OLBclHkVkLj_"
      },
      "execution_count": null,
      "outputs": []
    },
    {
      "cell_type": "code",
      "source": [
        "prediction=pd.DataFrame({\n",
        "    'Fileid':fileid,\n",
        "    'Prediction':classes\n",
        "})"
      ],
      "metadata": {
        "id": "71MfWxVovEly"
      },
      "execution_count": null,
      "outputs": []
    },
    {
      "cell_type": "code",
      "source": [
        "prediction.to_csv('/content/drive/MyDrive/MLSP_A2/Predictions.csv')"
      ],
      "metadata": {
        "id": "71FLu-CJpIB-"
      },
      "execution_count": null,
      "outputs": []
    },
    {
      "cell_type": "code",
      "source": [
        "'''\n",
        "x=np.squeeze(np.load(\"/content/drive/MyDrive/MLSP_A2/X/melspec_1700.npy\")).T\n",
        "x=x.reshape(20,50,64)\n",
        "x=normalise(x)\n",
        "y_pred=model(x)\n",
        "y_pred=y_pred.numpy()\n",
        "y_pred=y_pred.reshape(1000,11)\n",
        "print(y_pred)\n",
        "y_pred=np.round(y_pred)\n",
        "y_pred=y_pred.T\n",
        "y_pred=np.sum(y_pred,axis=-1)\n",
        "print(y_pred)\n",
        "y=np.load('/content/drive/MyDrive/MLSP_A2/Y/eventroll_1700.npy')\n",
        "y=np.sum(y,axis=-1)\n",
        "'''"
      ],
      "metadata": {
        "id": "u7vWqxwFyCO3"
      },
      "execution_count": null,
      "outputs": []
    }
  ]
}