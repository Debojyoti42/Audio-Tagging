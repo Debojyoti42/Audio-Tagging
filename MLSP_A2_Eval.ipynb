{
  "nbformat": 4,
  "nbformat_minor": 0,
  "metadata": {
    "colab": {
      "provenance": []
    },
    "kernelspec": {
      "name": "python3",
      "display_name": "Python 3"
    },
    "language_info": {
      "name": "python"
    },
    "gpuClass": "standard"
  },
  "cells": [
    {
      "cell_type": "code",
      "source": [
        "from google.colab import drive\n",
        "drive.mount('/content/drive')"
      ],
      "metadata": {
        "colab": {
          "base_uri": "https://localhost:8080/"
        },
        "id": "r7lcxNUNf58b",
        "outputId": "316f2fb3-dab2-4226-97d4-c2153368bf80"
      },
      "execution_count": 34,
      "outputs": [
        {
          "output_type": "stream",
          "name": "stdout",
          "text": [
            "Drive already mounted at /content/drive; to attempt to forcibly remount, call drive.mount(\"/content/drive\", force_remount=True).\n"
          ]
        }
      ]
    },
    {
      "cell_type": "code",
      "execution_count": 1,
      "metadata": {
        "id": "ldlIMpCwTWlS"
      },
      "outputs": [],
      "source": [
        "import tensorflow as tf\n",
        "import numpy as np\n",
        "import glob\n",
        "from tensorflow.keras.models import Sequential\n",
        "from tensorflow.keras.layers import Flatten,Dense,Conv2D,MaxPool2D,AvgPool2D\n",
        "from tensorflow import keras\n",
        "from sklearn.metrics import precision_recall_fscore_support"
      ]
    },
    {
      "cell_type": "code",
      "source": [
        "X_test=sorted(glob.glob(\"/content/drive/MyDrive/MLSP_A2/test/X/*.npy\"))\n",
        "Y_test=sorted(glob.glob(\"/content/drive/MyDrive/MLSP_A2/lables_test/*.npy\"))"
      ],
      "metadata": {
        "id": "KqbAiNi9Tf_p"
      },
      "execution_count": 3,
      "outputs": []
    },
    {
      "cell_type": "code",
      "source": [
        "def normalise(arr):\n",
        "  mu=np.mean(arr,axis=0)\n",
        "  std_dav=np.std(arr,axis=0)\n",
        "  normalised_arr=(arr-mu)/std_dav\n",
        "  return normalised_arr"
      ],
      "metadata": {
        "id": "hV1N1qTQVYK6"
      },
      "execution_count": 4,
      "outputs": []
    },
    {
      "cell_type": "code",
      "source": [
        "model=tf.keras.models.load_model(\"/content/drive/MyDrive/MLSP_A2/FrameWise_Bi_LSTM_Modified_19_9999\")"
      ],
      "metadata": {
        "id": "w8gJNESQVw5f"
      },
      "execution_count": 5,
      "outputs": []
    },
    {
      "cell_type": "code",
      "source": [
        "def eval_step(data_path,model,label_path, mode):\n",
        "  all_y=[]\n",
        "  all_y_pred=[]\n",
        "  \n",
        "  for sample in range(len(data_path)):\n",
        "    x= np.squeeze(np.load(data_path[sample])).T\n",
        "    x= x.reshape(20,50, 64)\n",
        "    x=normalise(x)\n",
        "    y_pred=model(x)\n",
        "    y_pred=y_pred.numpy()\n",
        "    y_pred=y_pred.reshape(1000,11)\n",
        "    y_pred=y_pred.T\n",
        "    y_pred=np.round(y_pred)\n",
        "    #print(y_pred.shape)\n",
        "    y=np.load(label_path[sample])\n",
        "    #print(y.shape)\n",
        "    all_y.append(y.T)\n",
        "    all_y_pred.append(y_pred.T)\n",
        "    #if sample == 2:\n",
        "    #   break  \n",
        "    \n",
        "  all_y=np.concatenate(all_y, axis=0)\n",
        "  all_y_pred=np.concatenate(all_y_pred,axis=0)\n",
        "  #print(all_y.shape,all_y_pred.shape)  \n",
        "  \n",
        "  classwise_precision=[]\n",
        "  classwise_recall=[]\n",
        "  classwise_f1=[]\n",
        "  for i in range(11):\n",
        "    Yk=all_y[:,i]\n",
        "    Ypredk=all_y_pred[:,i]\n",
        "\n",
        "    #print(Yk, Ypredk)\n",
        "    scores=precision_recall_fscore_support(Yk, Ypredk, average=mode)\n",
        "    classwise_precision.append(scores[0])\n",
        "    classwise_recall.append(scores[1])\n",
        "    classwise_f1.append(scores[2])\n",
        "  avg_precision=sum(classwise_precision)/len(classwise_precision)\n",
        "  avg_recall=sum(classwise_recall)/len(classwise_recall)\n",
        "  avg_f1=sum(classwise_f1)/len(classwise_f1)      \n",
        "  print(\"classwise precision:{},avg precision:{},classwise recall:{},avg recall:{},classwise_f1:{},avg f1:{}\".format(classwise_precision,avg_precision,classwise_recall,avg_recall,classwise_f1,avg_f1))\n",
        "\n",
        "\n"
      ],
      "metadata": {
        "id": "of-LJhJMThxL"
      },
      "execution_count": 6,
      "outputs": []
    },
    {
      "cell_type": "code",
      "source": [],
      "metadata": {
        "id": "ohJSXWLnAsvx"
      },
      "execution_count": 6,
      "outputs": []
    },
    {
      "cell_type": "code",
      "source": [
        "#eval_step(X_test,Y_test)"
      ],
      "metadata": {
        "id": "1-ezH1tFW4FL"
      },
      "execution_count": 7,
      "outputs": []
    },
    {
      "cell_type": "code",
      "source": [
        " eval_step(X_test,model,Y_test, 'micro')"
      ],
      "metadata": {
        "colab": {
          "base_uri": "https://localhost:8080/"
        },
        "id": "tW_0xO6WYogE",
        "outputId": "91f24bbc-57c8-4207-adfa-8c23bda400ce"
      },
      "execution_count": 8,
      "outputs": [
        {
          "output_type": "stream",
          "name": "stdout",
          "text": [
            "classwise precision:[0.923086, 0.9047776, 0.959522, 0.9728328, 0.9612708, 0.9203732, 0.8614176, 0.9060312, 0.8839752, 0.7584116, 0.8996],avg precision:0.9046634545454545,classwise recall:[0.923086, 0.9047776, 0.959522, 0.9728328, 0.9612708, 0.9203732, 0.8614176, 0.9060312, 0.8839752, 0.7584116, 0.8996],avg recall:0.9046634545454545,classwise_f1:[0.923086, 0.9047776, 0.959522, 0.9728328, 0.9612708, 0.9203732, 0.8614176, 0.9060312, 0.8839752, 0.7584116000000001, 0.8996],avg f1:0.9046634545454545\n"
          ]
        }
      ]
    },
    {
      "cell_type": "code",
      "source": [
        " eval_step(X_test,model,Y_test, None)"
      ],
      "metadata": {
        "colab": {
          "base_uri": "https://localhost:8080/"
        },
        "id": "_HTPS3pDhESA",
        "outputId": "e5ea18c4-0df2-48e2-f31a-3e9e77eabc80"
      },
      "execution_count": 9,
      "outputs": [
        {
          "output_type": "stream",
          "name": "stderr",
          "text": [
            "/usr/local/lib/python3.7/dist-packages/sklearn/metrics/_classification.py:1318: UndefinedMetricWarning: Precision and F-score are ill-defined and being set to 0.0 in labels with no predicted samples. Use `zero_division` parameter to control this behavior.\n",
            "  _warn_prf(average, modifier, msg_start, len(result))\n",
            "/usr/local/lib/python3.7/dist-packages/sklearn/metrics/_classification.py:1318: UndefinedMetricWarning: Precision and F-score are ill-defined and being set to 0.0 in labels with no predicted samples. Use `zero_division` parameter to control this behavior.\n",
            "  _warn_prf(average, modifier, msg_start, len(result))\n",
            "/usr/local/lib/python3.7/dist-packages/sklearn/metrics/_classification.py:1318: UndefinedMetricWarning: Precision and F-score are ill-defined and being set to 0.0 in labels with no predicted samples. Use `zero_division` parameter to control this behavior.\n",
            "  _warn_prf(average, modifier, msg_start, len(result))\n",
            "/usr/local/lib/python3.7/dist-packages/sklearn/metrics/_classification.py:1318: UndefinedMetricWarning: Precision and F-score are ill-defined and being set to 0.0 in labels with no predicted samples. Use `zero_division` parameter to control this behavior.\n",
            "  _warn_prf(average, modifier, msg_start, len(result))\n",
            "/usr/local/lib/python3.7/dist-packages/sklearn/metrics/_classification.py:1318: UndefinedMetricWarning: Precision and F-score are ill-defined and being set to 0.0 in labels with no predicted samples. Use `zero_division` parameter to control this behavior.\n",
            "  _warn_prf(average, modifier, msg_start, len(result))\n",
            "/usr/local/lib/python3.7/dist-packages/sklearn/metrics/_classification.py:1318: UndefinedMetricWarning: Precision and F-score are ill-defined and being set to 0.0 in labels with no predicted samples. Use `zero_division` parameter to control this behavior.\n",
            "  _warn_prf(average, modifier, msg_start, len(result))\n",
            "/usr/local/lib/python3.7/dist-packages/sklearn/metrics/_classification.py:1318: UndefinedMetricWarning: Precision and F-score are ill-defined and being set to 0.0 in labels with no predicted samples. Use `zero_division` parameter to control this behavior.\n",
            "  _warn_prf(average, modifier, msg_start, len(result))\n",
            "/usr/local/lib/python3.7/dist-packages/sklearn/metrics/_classification.py:1318: UndefinedMetricWarning: Precision and F-score are ill-defined and being set to 0.0 in labels with no predicted samples. Use `zero_division` parameter to control this behavior.\n",
            "  _warn_prf(average, modifier, msg_start, len(result))\n"
          ]
        },
        {
          "output_type": "stream",
          "name": "stdout",
          "text": [
            "classwise precision:[array([0.923086, 0.      ]), array([0.9047776, 0.       ]), array([0.959522, 0.      ]), array([0.9728328, 0.       ]), array([0.9612708, 0.       ]), array([0.9203732, 0.       ]), array([0.8614176, 0.       ]), array([0.9060312, 0.       ]), array([0.97860508, 0.66413442]), array([0.72683235, 0.86418003]), array([0.8996, 0.    ])],avg precision:[0.91039533 0.13893768],classwise recall:[array([1., 0.]), array([1., 0.]), array([1., 0.]), array([1., 0.]), array([1., 0.]), array([1., 0.]), array([1., 0.]), array([1., 0.]), array([0.87128263, 0.93037092]), array([0.94715588, 0.48573979]), array([1., 0.])],avg recall:[0.98349441 0.12873734],classwise_f1:[array([0.96000491, 0.        ]), array([0.95000865, 0.        ]), array([0.97934292, 0.        ]), array([0.98622934, 0.        ]), array([0.98025301, 0.        ]), array([0.95853577, 0.        ]), array([0.92555008, 0.        ]), array([0.95069923, 0.        ]), array([0.92183067, 0.77502575]), array([0.82249507, 0.62191342]), array([0.94714677, 0.        ])],avg f1:[0.94382695 0.12699447]\n"
          ]
        },
        {
          "output_type": "stream",
          "name": "stderr",
          "text": [
            "/usr/local/lib/python3.7/dist-packages/sklearn/metrics/_classification.py:1318: UndefinedMetricWarning: Precision and F-score are ill-defined and being set to 0.0 in labels with no predicted samples. Use `zero_division` parameter to control this behavior.\n",
            "  _warn_prf(average, modifier, msg_start, len(result))\n"
          ]
        }
      ]
    },
    {
      "cell_type": "code",
      "source": [
        " eval_step(X_test,model, Y_test, 'macro')"
      ],
      "metadata": {
        "colab": {
          "base_uri": "https://localhost:8080/"
        },
        "id": "AIlj0FgPFizl",
        "outputId": "06cf041a-e96c-41e6-aff6-2835a4536d98"
      },
      "execution_count": 10,
      "outputs": [
        {
          "output_type": "stream",
          "name": "stderr",
          "text": [
            "/usr/local/lib/python3.7/dist-packages/sklearn/metrics/_classification.py:1318: UndefinedMetricWarning: Precision and F-score are ill-defined and being set to 0.0 in labels with no predicted samples. Use `zero_division` parameter to control this behavior.\n",
            "  _warn_prf(average, modifier, msg_start, len(result))\n",
            "/usr/local/lib/python3.7/dist-packages/sklearn/metrics/_classification.py:1318: UndefinedMetricWarning: Precision and F-score are ill-defined and being set to 0.0 in labels with no predicted samples. Use `zero_division` parameter to control this behavior.\n",
            "  _warn_prf(average, modifier, msg_start, len(result))\n",
            "/usr/local/lib/python3.7/dist-packages/sklearn/metrics/_classification.py:1318: UndefinedMetricWarning: Precision and F-score are ill-defined and being set to 0.0 in labels with no predicted samples. Use `zero_division` parameter to control this behavior.\n",
            "  _warn_prf(average, modifier, msg_start, len(result))\n",
            "/usr/local/lib/python3.7/dist-packages/sklearn/metrics/_classification.py:1318: UndefinedMetricWarning: Precision and F-score are ill-defined and being set to 0.0 in labels with no predicted samples. Use `zero_division` parameter to control this behavior.\n",
            "  _warn_prf(average, modifier, msg_start, len(result))\n",
            "/usr/local/lib/python3.7/dist-packages/sklearn/metrics/_classification.py:1318: UndefinedMetricWarning: Precision and F-score are ill-defined and being set to 0.0 in labels with no predicted samples. Use `zero_division` parameter to control this behavior.\n",
            "  _warn_prf(average, modifier, msg_start, len(result))\n",
            "/usr/local/lib/python3.7/dist-packages/sklearn/metrics/_classification.py:1318: UndefinedMetricWarning: Precision and F-score are ill-defined and being set to 0.0 in labels with no predicted samples. Use `zero_division` parameter to control this behavior.\n",
            "  _warn_prf(average, modifier, msg_start, len(result))\n",
            "/usr/local/lib/python3.7/dist-packages/sklearn/metrics/_classification.py:1318: UndefinedMetricWarning: Precision and F-score are ill-defined and being set to 0.0 in labels with no predicted samples. Use `zero_division` parameter to control this behavior.\n",
            "  _warn_prf(average, modifier, msg_start, len(result))\n",
            "/usr/local/lib/python3.7/dist-packages/sklearn/metrics/_classification.py:1318: UndefinedMetricWarning: Precision and F-score are ill-defined and being set to 0.0 in labels with no predicted samples. Use `zero_division` parameter to control this behavior.\n",
            "  _warn_prf(average, modifier, msg_start, len(result))\n"
          ]
        },
        {
          "output_type": "stream",
          "name": "stdout",
          "text": [
            "classwise precision:[0.461543, 0.4523888, 0.479761, 0.4864164, 0.4806354, 0.4601866, 0.4307088, 0.4530156, 0.8213697501549735, 0.7955061865614772, 0.4498],avg precision:0.5246665033378591,classwise recall:[0.5, 0.5, 0.5, 0.5, 0.5, 0.5, 0.5, 0.5, 0.900826776999833, 0.7164478371803653, 0.5],avg recall:0.5561158740163816,classwise_f1:[0.48000245438841527, 0.475004325964354, 0.4896714606929649, 0.49311467246489415, 0.49012650369342164, 0.47926788397171965, 0.46277503769170336, 0.4753496165225417, 0.8484282093829576, 0.7222042459664619, 0.47357338387028847],avg f1:0.5354107086008839\n"
          ]
        },
        {
          "output_type": "stream",
          "name": "stderr",
          "text": [
            "/usr/local/lib/python3.7/dist-packages/sklearn/metrics/_classification.py:1318: UndefinedMetricWarning: Precision and F-score are ill-defined and being set to 0.0 in labels with no predicted samples. Use `zero_division` parameter to control this behavior.\n",
            "  _warn_prf(average, modifier, msg_start, len(result))\n"
          ]
        }
      ]
    }
  ]
}